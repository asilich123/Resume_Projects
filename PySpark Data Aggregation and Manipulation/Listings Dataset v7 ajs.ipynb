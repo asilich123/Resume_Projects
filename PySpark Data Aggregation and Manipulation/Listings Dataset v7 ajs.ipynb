{
 "cells": [
  {
   "cell_type": "code",
   "execution_count": null,
   "metadata": {
    "application/vnd.databricks.v1+cell": {
     "cellMetadata": {
      "byteLimit": 2048000,
      "rowLimit": 10000
     },
     "inputWidgets": {},
     "nuid": "c6797c6b-b59f-4983-9f66-a3a4ec1dfb28",
     "showTitle": false,
     "title": "Imports"
    }
   },
   "outputs": [],
   "source": [
    "from pyspark.sql.functions import *\n",
    "from pyspark.sql import functions as f\n",
    "from pyspark.sql import types as t\n",
    "from pyspark.sql import Window\n",
    "from pyspark.sql.types import TimestampType\n",
    "\n",
    "import datetime\n",
    "from pyspark.sql.window import *\n",
    "\n",
    "from databricks import sql\n",
    "import os"
   ]
  },
  {
   "cell_type": "code",
   "execution_count": null,
   "metadata": {
    "application/vnd.databricks.v1+cell": {
     "cellMetadata": {
      "byteLimit": 2048000,
      "rowLimit": 10000
     },
     "inputWidgets": {},
     "nuid": "86d1a4ea-2a5e-41c8-a0f0-17174aa0a303",
     "showTitle": true,
     "title": "Delta Lake Data Retrieval"
    }
   },
   "outputs": [],
   "source": [
    "\n",
    "# LISTINGS\n",
    "listings_raw = #REMOVED\n",
    "\n",
    "# LISTING HISTORY\n",
    "listingHistory_raw = #REMOVED\n",
    "\n",
    "# OPPORTUNITY\n",
    "opportunity_raw = #REMOVED\n",
    "\n",
    "# OPPORTUNITY STAGE HISTORY\n",
    "oppHistory_raw = #REMOVED\n",
    "# CAMPAIGN\n",
    "campaign_raw = #REMOVED\n",
    "\n",
    "# CAMPAIGN MEMBER\n",
    "campaignMember_raw = #REMOVED\n",
    "\n",
    "# CONTACT\n",
    "contact_raw = #REMOVED\n",
    "\n",
    "# CURRENCY CONVERSION\n",
    "currency_raw = #REMOVED\n",
    "\n",
    "# COMPANY ACCOUNT\n",
    "account_raw = #REMOVED\n",
    "\n",
    "# PROPERTY\n",
    "property_raw = #REMOVED\n",
    "\n",
    "# ASSOCIATE PROPERTY\n",
    "associateProperty_raw = #REMOVED\n",
    "\n",
    "# LEAD\n",
    "lead_raw = #REMOVED\n",
    "\n",
    "# ADOBE AEM_ADW\n",
    "adobe_raw = #REMOVED\n",
    "\n",
    "# BOX ACTIVITIES\n",
    "box_raw = #REMOVED\n",
    "\n",
    "# BIDS\n",
    "bids_raw = #REMOVED\n",
    "\n",
    "# BOX CURRENT\n",
    "box_current = #REMOVED\n",
    "\n",
    "# BOX HISTORY\n",
    "box_hist_df = #REMOVED"
   ]
  },
  {
   "cell_type": "code",
   "execution_count": null,
   "metadata": {
    "application/vnd.databricks.v1+cell": {
     "cellMetadata": {
      "byteLimit": 2048000,
      "rowLimit": 10000
     },
     "inputWidgets": {},
     "nuid": "e5af8ff3-3e07-4b8e-bd1c-cb6bc69dd877",
     "showTitle": true,
     "title": "Data Table Column Selection"
    }
   },
   "outputs": [],
   "source": [
    "#Listing History Columns\n",
    "listingHistory = listingHistory_raw.select(col('Id').alias('lh_Id'), col('ParentId').alias('lh_ParentId'), col('CreatedDate').alias('lh_CreatedDate'), col('Field').alias('lh_Field'), col('OldValue').alias('lh_OldValue'), col('NewValue').alias('lh_NewValue'), col('IsDeleted').alias('lh_IsDeleted'))\n",
    "\n",
    "#Listings Columns\n",
    "listings = listings_raw.select(col('Id').alias('l_Id'), col('Name').alias('l_Name'), col('CreatedDate').alias('l_CreatedDate'), col('Display_Status__c').alias('l_Display_Status__c'), col('Asking_Price__c').alias('l_Asking_Price__c'), col('Opportunity__c').alias('l_Opportunity__c'), col('Campaign__c').alias('l_Campaign__c'), col('Display_On_Web__c').alias('l_Display_On_Web__c'), col('IsDeleted').alias('l_IsDeleted'))\n",
    "\n",
    "#Associate Property Columns\n",
    "associateProperty = associateProperty_raw.select(col('Id').alias('ap_Id'), col('Opportunity__c').alias('ap_Opportunity__c'), col('Property__c').alias('ap_Property__c'), col('IsDeleted').alias('ap_IsDeleted'))\n",
    "\n",
    "#Property Columns\n",
    "property = property_raw.select(col('Id').alias('p_Id'), col('Asset_Type__c').alias('p_Asset_Type__c'), col('Longitude__c').alias('p_Longitude__c'), col('Latitude__c').alias('p_Latitude__c'), col('State__c').alias('p_State__c'), col('City__c').alias('p_City__c'), col('IsDeleted').alias('p_IsDeleted'), col('Zip_Code__c').alias('p_Zip_Code'))\n",
    "\n",
    "#Campaign Member Columns\n",
    "campaignMember_columns = campaignMember_raw.select(col('Id').alias('cm_Id'), col('LeadId').alias('cm_LeadId'), col('ContactId').alias('cm_ContactId'), col('CampaignId').alias('cm_CampaignId'), col('Status').alias('cm_Status'), col('Executed_Agreement__c').alias('cm_Executed_Agreement__c'), col('Bid_Submitted__c').alias('cm_Bid_Submitted__c'), col('Inspection_Date__c').alias('cm_Inspection_Date__c'), col('Offering_Investment_Memorandum_Open_Date__c').alias('cm_Offering_Investment_Memorandum_Open_Date__c'), to_date(col('Tour_Date_Time__c')).alias('cm_Tour_Date'), col('IsDeleted').alias('cm_IsDeleted'), col('Reason_For_Exclusion__c').alias('cm_Reason_For_Exclusion__c'), col('Suppressed_in_Eloqua__c'), 'Bulk_Email_Opt_Out__c', 'HasOptedOutOfEmail', 'Inactive__c', 'Exclude_from_Campaign_Email__c', 'Company_Status__c')\n",
    "\n",
    "#Opportunity Columns\n",
    "opportunity = opportunity_raw.select(col('Id').alias('o_Id'), col('AccountId').alias('o_AccountId'), col('Deal_Value__c').alias('o_Deal_Value__c'), col('CurrencyIsoCode').alias('o_CurrencyIsoCode'), col('Confidential__c').alias('o_Confidential__c'), col('IsDeleted').alias('o_IsDeleted'))\n",
    "\n",
    "#Currency Columns\n",
    "currency_columns = currency_raw.select(col('Id').alias('curr_Id'), col('ConversionRate').alias('curr_ConversionRate'), col('IsoCode').alias('curr_IsoCode'))\n",
    "\n",
    "#Account Columns\n",
    "account = account_raw.select(col('Id').alias('ac_Id'), col('Name').alias('ac_Name'), col('IsDeleted').alias('ac_IsDeleted'))\n",
    "\n",
    "#Adobe Columns\n",
    "adobe = adobe_raw.select( col('Date').alias('ad_Date'), col('PropertyListingIDc49prop49').alias('ad_PropertyListingIDc49prop49'), col('CapForceIDv84evar84').alias('ad_CapForceIDv84evar84'), col('Visits').alias('ad_Visits'), col('PageViews').alias('ad_PageViews'))\n",
    "\n",
    "#Contact Columns\n",
    "contact = contact_raw.select(col('Id').alias('c_Id'), col('AccountId').alias('c_AccountId'), col('Name').alias('c_Name'), col('Full_Name__c').alias('c_Full_Name__c'), col('Email').alias('c_Email'), col('MobilePhone').alias('c_MobilePhone'), col('Phone').alias('c_Phone'), col('Box_App_User_ID__c').alias('c_Box_App_User_ID__c'), col('IsDeleted').alias('c_IsDeleted'), col('User__c').alias('c_UserId'))\n",
    "\n",
    "#Lead Columns\n",
    "lead = lead_raw.select(col('Id').alias('ld_Id'), col('Name').alias('ld_Name'), col('Company').alias('ld_Company'), col('IsDeleted').alias('ld_IsDeleted'))\n",
    "\n",
    "#Campaign Member Columns\n",
    "campaignMember = campaignMember_columns.filter((col('cm_Status').isin('CA/NDA Signed', 'Bid Submitted / Terms Received', 'Quote Submitted / Terms Received'))\n",
    "                                                | (col('cm_Executed_Agreement__c').isNotNull())\n",
    "                                                | (col('cm_Bid_Submitted__c').isNotNull())\n",
    "                                                | (col('cm_Inspection_Date__c').isNotNull())\n",
    "                                                | (col('cm_Offering_Investment_Memorandum_Open_Date__c').isNotNull()))\n",
    "\n",
    "#Currency Columns\n",
    "currency = currency_columns.filter(col('curr_IsoCode').isNotNull())\n",
    "\n",
    "#Capforce Campaign Columns\n",
    "campaignCapforce = campaign_raw.select(col('Id').alias('camp_campaignId'), col('Number_of_Campaign_Members__c').cast('int').alias('camp_No_of_CampaignMembers'), col('NumberOfContacts').cast('int').alias('camp_NumberOfContacts'), col('Opportunity__c').alias('camp_OppId'), col('Content_Status__c').alias('camp_Content_Status'), col('IsActive').alias('camp_IsActive'), col('Team__c').alias('camp_TeamId'), col('Status').alias('camp_Status'))\n",
    "\n",
    "#Lead Broker Columns\n",
    "leadBroker = opportunity_raw.select(col('Id').alias('oppId'), col('Primary_Broker__c').alias('Primary_Broker_User_Id'), col('Secondary_Broker__c').alias('Secondary_Broker_User_Id'))"
   ]
  },
  {
   "cell_type": "code",
   "execution_count": null,
   "metadata": {
    "application/vnd.databricks.v1+cell": {
     "cellMetadata": {
      "byteLimit": 2048000,
      "rowLimit": 10000
     },
     "inputWidgets": {},
     "nuid": "e989ae3b-29a9-4ee7-8494-9a859b65bd34",
     "showTitle": true,
     "title": "Lead Broker Info"
    }
   },
   "outputs": [],
   "source": [
    "#Join leadBroker raw data with contact user info and pull data for primary broker\n",
    "primaryBrokerInfo = leadBroker.join(contact, leadBroker.Primary_Broker_User_Id == contact.c_UserId, 'left').select('oppId', 'Primary_Broker_User_Id', col('c_Id').alias('Primary_Broker_Contact_Id'), col('c_Name').alias('Primary_Broker_Name'), col('c_Email').alias('Primary_Broker_Email'), col('c_Phone').alias('Primary_Broker_Phone'))\n",
    "\n",
    "#Join leadBroker raw data with contact user info and pull data for secondary broker\n",
    "secondaryBrokerInfo = leadBroker.join(contact, leadBroker.Secondary_Broker_User_Id == contact.c_UserId, 'left').select('oppId', 'Secondary_Broker_User_Id', col('c_Id').alias('Secondary_Broker_Contact_Id'), col('c_Name').alias('Secondary_Broker_Name'), col('c_Email').alias('Secondary_Broker_Email'), col('c_Phone').alias('Secondary_Broker_Phone'))\n",
    "\n",
    "#Join primary broker and secondary broker together\n",
    "leadBrokerInfoJoin = primaryBrokerInfo.join(secondaryBrokerInfo, ['oppId'], 'left')\n",
    "\n",
    "#Select and aggregate relevant data into a single row per opportunity. \n",
    "leadBrokerInfo = leadBrokerInfoJoin.groupBy(col('oppId')).agg(max(col('Primary_Broker_User_Id')).alias('Primary_Broker_User_Id'), max(col('Primary_Broker_Contact_Id')).alias('Primary_Broker_Contact_Id'), max(col('Primary_Broker_Name')).alias('Primary_Broker_Name'), max(col('Primary_Broker_Email')).alias('Primary_Broker_Email'), max(col('Primary_Broker_Phone')).alias('Primary_Broker_Phone'), max(col('Secondary_Broker_User_Id')).alias('Secondary_Broker_User_Id'), max(col('Secondary_Broker_Contact_Id')).alias('Secondary_Broker_Contact_Id'), max(col('Secondary_Broker_Name')).alias('Secondary_Broker_Name'),  max(col('Secondary_Broker_Email')).alias('Secondary_Broker_Email'), max(col('Secondary_Broker_Phone')).alias('Secondary_Broker_Phone'))"
   ]
  },
  {
   "cell_type": "code",
   "execution_count": null,
   "metadata": {
    "application/vnd.databricks.v1+cell": {
     "cellMetadata": {
      "byteLimit": 2048000,
      "rowLimit": 10000
     },
     "inputWidgets": {},
     "nuid": "89258b10-d1e3-46aa-b4ee-a5f4f550962b",
     "showTitle": true,
     "title": "-------- IC Listings, Property Table, Member activity"
    }
   },
   "outputs": [],
   "source": [
    "#IC_Listings\n",
    "ltemp1 = listingHistory.filter((listingHistory.lh_Field == 'Display_on_Web__c') & (listingHistory.lh_NewValue == 'true'))  #<------ Currently live listings on Investor Center\n",
    "\n",
    "ltemp2 = ltemp1.groupBy(ltemp1.lh_ParentId).agg(min('lh_CreatedDate').alias('Publish_Date'),\n",
    "                                             datediff(current_date(), min('lh_CreatedDate').cast('date')).alias('Published_Days'))\n",
    "\n",
    "ic_listings = ltemp2.select(col('lh_ParentId').alias('Listing_Id'), to_date(col('Publish_Date')).alias('Publish_Date'), col('Published_Days'))   #<---------- Listing created till today = No. of Published days\n",
    "\n",
    "\n",
    "#Property Table\n",
    "listingstemp = listings.select('l_Id', 'l_Name', col('l_CreatedDate').cast('date').alias('l_CreatedDate'), 'l_Display_Status__c', col('l_Asking_Price__c').cast('int').alias('l_Asking_Price__c'), 'l_Opportunity__c', 'l_Campaign__c', 'l_Display_On_Web__c', 'l_IsDeleted')\n",
    "listingstemp = listingstemp.withColumnRenamed('l_Id', 'Listings_Id')\n",
    "listingstemp = listingstemp.where(listingstemp.l_IsDeleted == 'false')\n",
    "\n",
    "proptemp1 = listingstemp.join(associateProperty, listingstemp.l_Opportunity__c == associateProperty.ap_Opportunity__c, how = 'left').drop(associateProperty.ap_Opportunity__c)\n",
    "proptemp2 = proptemp1.join(property, proptemp1.ap_Property__c == property.p_Id, how = 'left').drop(property.p_Id)\n",
    "\n",
    "property_table = proptemp2.groupBy('Listings_Id').agg(max(col('p_Asset_Type__c')).alias('Property_Type'),\n",
    "                                                      max(col('p_Longitude__c')).alias('Longitude'),\n",
    "                                                      max(col('p_Latitude__c')).alias('Latitude'),\n",
    "                                                      max(col('p_State__c')).alias('State'),\n",
    "                                                      max(col('p_Zip_Code')).alias('Zip_Code'),\n",
    "                                                      max(col('p_City__c')).alias('City'))   #<---------- Property demographics associated to the listings  \n",
    "\n",
    "\n",
    "#Member Activity --- filters Campaign members who've executed CA and/or in later stages of the campaign\n",
    "cmtemp1 = campaignMember.where((campaignMember.cm_Status.isin('CA/NDA Signed', 'Bid Submitted / Terms Received', 'Quote Submitted / Terms Received', 'Offer Submitted')) | campaignMember.cm_Executed_Agreement__c.isNotNull() | campaignMember.cm_Bid_Submitted__c.isNotNull())\n",
    "cmtemp2 = cmtemp1.join(listings, cmtemp1.cm_CampaignId == listings.l_Campaign__c, 'inner').drop(listings.l_Campaign__c)\n",
    "member_activity = cmtemp2.groupBy('cm_CampaignId', coalesce('cm_ContactId', 'cm_LeadId').alias('Contact_Id'), 'cm_LeadId').agg(max(when(cmtemp2.cm_Status == 'CA/NDA Signed', 1)\n",
    "                                                                                                                                   .when(cmtemp2.cm_Executed_Agreement__c.isNotNull(), 1)\n",
    "                                                                                                                                   .otherwise(0)).alias('Executed_CA'),   #<---------- Contact that signed a CA/NDA per listing\n",
    "                                                                                                                               sum(when((cmtemp2.cm_Status == 'Bid Submitted / Terms Received') |\n",
    "                                                                                                                                        (cmtemp2.cm_Status == 'Quote Submitted / Terms Received') |\n",
    "                                                                                                                                        (cmtemp2.cm_Status == 'Offer Submitted') |\n",
    "                                                                                                                                        cmtemp2.cm_Bid_Submitted__c.isNotNull(), 1)\n",
    "                                                                                                                                   .otherwise(0)).alias('Offer_Submitted'),    #<---------- Offer submitted (Bids/Quotes)\n",
    "                                                                                                                               max(to_date(cmtemp2.cm_Executed_Agreement__c, \"yyyy-MM-dd\")).alias('Date_Executed_CA'),\n",
    "                                                                                                                               max(to_date(cmtemp2.cm_Bid_Submitted__c, \"yyyy-MM-dd\")).alias('Date_Offer_Submitted'),\n",
    "                                                                                                                               max(to_date(cmtemp2.cm_Inspection_Date__c, \"yyyy-MM-dd\")).alias('Inspection_Date'),\n",
    "                                                                                                                               max(to_date(cmtemp2.cm_Offering_Investment_Memorandum_Open_Date__c, \"yyyy-MM-dd\")).alias('Memo_Open_Date'),\n",
    "                                                                                                                               max(cmtemp2.cm_Tour_Date).alias('Tour_Date'),\n",
    "                                                                                                                               max(when(cmtemp2.cm_Reason_For_Exclusion__c.isNotNull(), 1)\n",
    "                                                                                                                                   .when(cmtemp2.Suppressed_in_Eloqua__c == 'true', 1)\n",
    "                                                                                                                                   .when(cmtemp2.Bulk_Email_Opt_Out__c == 'true', 1)\n",
    "                                                                                                                                   .when(cmtemp2.HasOptedOutOfEmail == 'true', 1)\n",
    "                                                                                                                                   .when(cmtemp2.Inactive__c == 'true', 1)\n",
    "                                                                                                                                   .when(cmtemp2.Exclude_from_Campaign_Email__c == 'true', 1)\n",
    "                                                                                                                                   .when(cmtemp2.Company_Status__c == 'Excluded', 1)\n",
    "                                                                                                                                   .otherwise(0)).alias('Excluded'))   #<---------- Is the contact excluded from being contacted (1:Yes, 0:Not excluded)\n"
   ]
  },
  {
   "cell_type": "code",
   "execution_count": null,
   "metadata": {
    "application/vnd.databricks.v1+cell": {
     "cellMetadata": {
      "byteLimit": 2048000,
      "rowLimit": 10000
     },
     "inputWidgets": {},
     "nuid": "60184478-66c8-42c6-b1d2-58f8c9d9c036",
     "showTitle": true,
     "title": "------- IC Listing Joins - Capforce"
    }
   },
   "outputs": [],
   "source": [
    "tempOutput1 = listings.join(ic_listings, ic_listings.Listing_Id == listings.l_Id, 'inner').drop(ic_listings.Listing_Id)\n",
    "tempOutput2 = tempOutput1.join(member_activity, tempOutput1.l_Campaign__c == member_activity.cm_CampaignId, 'left').drop(member_activity.cm_CampaignId)\n",
    "tempOutput3 = tempOutput2.join(opportunity, opportunity.o_Id == tempOutput2.l_Opportunity__c, 'left').drop(tempOutput2.l_Opportunity__c)\n",
    "tempOutput4 = tempOutput3.join(currency, tempOutput3.o_CurrencyIsoCode == currency.curr_IsoCode, 'left').drop(currency.curr_IsoCode)\n",
    "tempOutput5 = tempOutput4.join(account, account.ac_Id == tempOutput4.o_AccountId, 'left').drop(account.ac_Id)\n",
    "capListings = tempOutput5.join(property_table, property_table.Listings_Id == tempOutput5.l_Id, 'left').drop(property_table.Listings_Id) \n",
    "\n",
    "#capListings is by ContactId/LeadId and Date (CA executed, offer submitted, inspection and memo date )\n",
    "\n",
    "\n",
    "#Capforce Listings active only\n",
    "cActiveListings = capListings.withColumn('Status', when(col('l_Display_On_Web__c') == 'true', 'Active').when(col('l_Display_On_Web__c') == 'false', 'Inactive').otherwise('Unknown')).withColumn('Private_Listing_Name', when(col('l_Display_Status__c') == 'Private', concat_ws(' ', col('Property_Type'), col('City'))).otherwise(None)).drop(capListings.l_Display_On_Web__c)#.where(col('Status') == 'Active')\n",
    "\n",
    "cActiveListings = cActiveListings.where((cActiveListings.Status == 'Active') | (cActiveListings.l_CreatedDate >= '2022-01-01'))   #<---------- ACTIVE LISTINGS or CREATED DATE FILTERS\n",
    "\n",
    "# Join Active listings to account\n",
    "c_companies = contact.select('c_Id', 'c_AccountId')\n",
    "capActiveListings = cActiveListings.join(c_companies, cActiveListings.Contact_Id == c_companies.c_Id, how = 'left').drop(c_companies.c_Id)\n",
    "\n",
    "\n",
    "#Aggregate by Contacts and Companies\n",
    "cap_agg1 = capActiveListings.groupby('l_Id','l_Name', 'l_CreatedDate', 'l_Display_Status__c', 'l_Asking_Price__c', 'Publish_Date', 'Published_Days', 'l_Campaign__c', 'o_Id', 'o_AccountId', 'o_Deal_Value__c',  'o_CurrencyIsoCode', 'o_Confidential__c', 'curr_ConversionRate', 'ac_Name', 'Property_Type', 'Longitude', 'Latitude', 'State', 'City', 'Zip_Code', 'Status', 'Private_Listing_Name').agg(sum('Executed_CA').alias('#ofExecutedCA'), \n",
    "                                                                                                                                                                                                                                                                                                                                                                                              sum('Offer_Submitted').alias('#ofBidsbyContactsCA'),\n",
    "                                                                                                                                                                                                                                                                                                                                                                                              countDistinct('c_AccountId').alias('#ofContactCompaniesCA'),\n",
    "                                                                                                                                                                                                                                                                                                                                                                                              countDistinct((when(capActiveListings.Offer_Submitted == 1, capActiveListings.c_AccountId).otherwise(lit(None)))).alias('#ofBiddingCompanies'),\n",
    "                                                                                                                                                                                                                                                                                                                                                                                              sum(when(capActiveListings.Tour_Date.isNotNull(), 1).otherwise(0)).alias('#PropertyTours'),\n",
    "                                                                                                                                                                                                                                                                                                                                                                                              sum('Excluded').alias('MemberExclusion'))\n",
    "\n",
    "\n",
    "#Capforce Listings level info\n",
    "capData = cap_agg1.select(col('l_Id').alias('ListingId'), col('l_Name').alias('ListingName'), col('l_Campaign__c').alias('CampaignId'), col('o_Id').alias('OpportunityID'), col('o_AccountId').alias('CompanyID'), col('ac_Name').alias('CompanyName'), '#ofExecutedCA',  '#ofBidsbyContactsCA', '#ofContactCompaniesCA', '#ofBiddingCompanies', '#PropertyTours', col('l_CreatedDate').cast('date').alias('ListingCreatedDate'), col('l_Display_Status__c').alias('DisplayStatus'), 'Publish_Date', 'Published_Days', col('l_Asking_Price__c').cast('double').alias('AskingPrice'), col('o_Deal_Value__c').cast('double').alias('DealValue'),  col('o_CurrencyIsoCode').alias('ISOCode'), col('curr_ConversionRate').alias('CurConvRate'), col('o_Confidential__c').alias('Confidential'), 'Property_Type', 'Longitude', 'Latitude', 'State', 'City', 'Zip_Code', 'Status', 'Private_Listing_Name', 'MemberExclusion')\n"
   ]
  },
  {
   "cell_type": "code",
   "execution_count": null,
   "metadata": {
    "application/vnd.databricks.v1+cell": {
     "cellMetadata": {
      "byteLimit": 2048000,
      "rowLimit": 10000
     },
     "inputWidgets": {},
     "nuid": "e9ba4ff9-4937-49e9-8bd1-9f0a0781ff0c",
     "showTitle": true,
     "title": "-------- Box Aggregates by Listings"
    }
   },
   "outputs": [],
   "source": [
    "boxlistings = boxActivities.where(col('EventCreatedBy') != \"JLL-Global-CM-GPL-CapForce\")\n",
    "boxlistingsagg= boxlistings.select('ListingID', 'EventCreatedByLoginID', 'EventCreatedBy', 'EventDate', 'ObjName', row_number().over(Window.partitionBy('EventCreatedByLoginID', 'ObjName').orderBy(desc('EventDate'))).alias('Row_Num'))\n",
    "\n",
    "boxlistingsagg = boxlistingsagg.filter(boxlistingsagg.Row_Num == 1)\n",
    "\n",
    "boxdownloadsagg = boxlistingsagg.groupBy('ListingID', 'EventCreatedByLoginID', 'EventCreatedBy').agg(max(col('EventDate').cast('date')).alias('Download_Date'),\n",
    "                                                                                      count('ObjName').alias('BoxDownloads')) \n",
    "\n",
    "### CONTACT level box download aggregate                                                                                      \n",
    "boxtemp1 = boxdownloadsagg.select('ListingID', 'EventCreatedByLoginID', col(\"EventCreatedBy\").alias(\"Contact_Name\"), 'Download_Date', 'BoxDownloads')\n",
    "boxtemp2 = boxtemp1.join(contact, boxtemp1.EventCreatedByLoginID == contact.c_Box_App_User_ID__c, how = 'left').drop(contact.c_Box_App_User_ID__c).drop(contact.c_IsDeleted)\n",
    "boxdownloads = boxtemp2.select('ListingID', col('c_ID').alias('BoxContactId'), 'Contact_Name', col('c_AccountId').alias('BoxCompanyId'), 'Download_Date','BoxDownloads')\n",
    "\n",
    "### LISTINGS level box download aggregate\n",
    "boxDownloadData = boxdownloads.groupBy('ListingID').agg(sum('BoxDownloads').alias('TotalBoxDownloads'))"
   ]
  },
  {
   "cell_type": "code",
   "execution_count": null,
   "metadata": {
    "application/vnd.databricks.v1+cell": {
     "cellMetadata": {
      "byteLimit": 2048000,
      "rowLimit": 10000
     },
     "inputWidgets": {},
     "nuid": "f4ede4cf-dc83-4654-a14c-eabecc2f7ca3",
     "showTitle": true,
     "title": "------- ADOBE data Aggregation - Listing level"
    }
   },
   "outputs": [],
   "source": [
    "adobetemp1 = adobe.withColumn('ad_ListingID', regexp_replace(col('ad_PropertyListingIDc49prop49'), '-en_US', '')).drop(adobe.ad_PropertyListingIDc49prop49).withColumnRenamed('ad_CapForceIDv84evar84', 'ad_ContactId')\n",
    "\n",
    "#ListingID and ContactId level aggregate\n",
    "adobetemp2 = adobetemp1.groupby('ad_ListingID', 'ad_ContactId').agg(sum('ad_Visits').alias('WebVisits'),\n",
    "                                                                    sum('ad_PageViews').alias('PageViews'))\n",
    "\n",
    "#Listing level Aggregate\n",
    "adobeData = adobetemp1.groupby('ad_ListingID').agg(sum('ad_Visits').alias('TotalVisits'),\n",
    "                                                   sum('ad_PageViews').alias('PageViews'),\n",
    "                                                   countDistinct('ad_ContactId').alias('UniqueVisitors'))"
   ]
  },
  {
   "cell_type": "code",
   "execution_count": null,
   "metadata": {
    "application/vnd.databricks.v1+cell": {
     "cellMetadata": {
      "byteLimit": 2048000,
      "rowLimit": 10000
     },
     "inputWidgets": {},
     "nuid": "b13a5dea-98b2-47f7-9af0-e39a442002bd",
     "showTitle": true,
     "title": "------- ADOBE daily trend chart prep"
    }
   },
   "outputs": [],
   "source": [
    "## Adobe Daily trend chart\n",
    "listingIDs = capData.select('ListingID').distinct()\n",
    "\n",
    "#Filter only active listings in capforce\n",
    "adobetemp3 = adobetemp1.join(listingIDs, adobetemp2.ad_ListingID == listingIDs.ListingID, how = 'inner').drop(listingIDs.ListingID)\n",
    "\n",
    "spark.sql(\"set spark.sql.legacy.timeParserPolicy=LEGACY\")\n",
    "adobetemp4 = adobetemp3.withColumn('ad_Date', date_format(to_date(adobetemp3.ad_Date, 'MMMM dd, yyyy'), 'yyyy-MM-dd'))\n",
    "\n",
    "adobetemp5 = adobetemp4.groupby('ad_ListingID', 'ad_Date').agg(sum('ad_Visits').alias('TotalVisits'),\n",
    "                                                   sum('ad_PageViews').alias('PageViews'),\n",
    "                                                   countDistinct('ad_ContactId').alias('UniqueVisitors'))\n",
    "\n",
    "spec  = Window.partitionBy('ad_ListingID')\n",
    "adobetemp6 = adobetemp5.withColumn('max_Date', max(adobetemp5.ad_Date).over(spec))\n",
    "adobetemp7 = adobetemp6.withColumn('min_Date', min(adobetemp5.ad_Date).over(spec))\n",
    "adobetemp8 = adobetemp7.select(col('ad_ListingID'), col('ad_Date'), col('TotalVisits'), col('PageViews'), col('UniqueVisitors'))"
   ]
  },
  {
   "cell_type": "code",
   "execution_count": null,
   "metadata": {
    "application/vnd.databricks.v1+cell": {
     "cellMetadata": {
      "byteLimit": 2048000,
      "rowLimit": 10000
     },
     "inputWidgets": {},
     "nuid": "d38a7fda-c963-419f-9a0b-33f81af87986",
     "showTitle": true,
     "title": "------- ADOBE daily trend chart fill in missing dates"
    }
   },
   "outputs": [],
   "source": [
    "#Fill missing dates within range of min and max with data filled with 0s\n",
    "tempgroupby = adobetemp7.groupBy(adobetemp7.ad_ListingID).agg(min(col('min_Date')).alias('min_Date'), max(col('max_Date')).alias('max_Date'))\n",
    "tempgroupby2 = tempgroupby.select(col('ad_ListingID'), to_date(col('max_Date')).alias('max_Date'))\n",
    "\n",
    "#Limit dates range to previous 90 days\n",
    "L90days = tempgroupby2.withColumn('L90', date_add(col('max_Date'), -89))\n",
    "\n",
    "dates_range = L90days.select(\n",
    "    col('ad_ListingID').alias('ad_ListingID'), col('max_Date'),\n",
    "    expr('sequence(L90, max_Date, interval 1 day)').alias('ad_Date')\n",
    ")\n",
    "\n",
    "dates_range2 = dates_range.withColumn('ad_Date', explode('ad_Date'))\n",
    "dates_range3 = dates_range2.select(col('ad_ListingID'), col('ad_Date').cast('string'), col('max_Date'))\n",
    "\n",
    "adobetemp9 = dates_range3.join(adobetemp8, on=['ad_Date', 'ad_ListingID'],how=\"left\")\n",
    "adobetemp10 = adobetemp9.fillna(0, subset=['TotalVisits', 'PageViews', 'UniqueVisitors'])\n",
    "\n",
    "adobeOpId = listings_raw.select(col('Opportunity__c').alias('OpportunityId'), col('Id').alias('ListingId'))\n",
    "adobetemp11 = adobetemp10.join(adobeOpId, adobetemp10.ad_ListingID == adobeOpId.ListingId, 'left').drop(adobeOpId.ListingId)"
   ]
  },
  {
   "cell_type": "code",
   "execution_count": null,
   "metadata": {
    "application/vnd.databricks.v1+cell": {
     "cellMetadata": {
      "byteLimit": 2048000,
      "rowLimit": 10000
     },
     "inputWidgets": {},
     "nuid": "2b887450-a0f7-4de6-b08a-b0c3a5ea35f9",
     "showTitle": true,
     "title": "------- ELOQUA data Aggregation - Campaign level"
    }
   },
   "outputs": [],
   "source": [
    "#Missing CampaignIDs\n",
    "mCampaignIds = #REMOVED\n",
    "\n",
    "# EMAIL CAMPAIGN\n",
    "eCampaign_snap = #REMOVED\n",
    "\n",
    "#Join Eloqua Campaign table with Custom pulled missing campaign Ids data set. -----> crmId = Capforce CampaignID\n",
    "eCampaign_snap = eCampaign_snap.join(mCampaignIds, eCampaign_snap.id == mCampaignIds.CAMPAIGNID, how = 'left').drop(mCampaignIds.CAMPAIGNID).drop(mCampaignIds.CRMID)\n",
    "eCampaign_snap = eCampaign_snap.withColumn('crmId', when(eCampaign_snap.crmId == '', eCampaign_snap.CRMMISSING_ID).otherwise(eCampaign_snap.crmId))\n",
    "\n",
    "# EMAIL SENDS\n",
    "eSend_snap = #REMOVED\n",
    "\n",
    "# EMAIL CONTACTS\n",
    "eContacts_snap = #REMOVED\n",
    "\n",
    "# EMAIL BOUNCEBACKS\n",
    "eBounceback_snap = #REMOVED\n",
    "\n",
    "# EMAIL CLICKTHROUGHS\n",
    "eClick_snap = #REMOVED\n",
    "\n",
    "# EMAIL OPENS\n",
    "eOpen_snap = #REMOVED\n",
    "\n",
    "\n",
    "###### ---------- SELECT REQUIRED COLUMNS\n",
    "\n",
    "#Contacts\n",
    "contactsData = eContacts_snap.select('contactID', col('C_SFDCContactID').alias('cap_ContactId'), col('C_SFDCLeadID').alias('cap_LeadId'), col('C_SFDCAccountID').alias('cap_AccountId'),  col('C_EmailAddress').alias('emailaddress'), col('C_FirstAndLastName').alias('C_Name'),  'C_Company', 'isSubscribed', 'isBounced')\n",
    "\n",
    "#Sends\n",
    "sendData = eSend_snap.select(date_format(to_date(col('ActivityDate')), \"MM-dd-yyyy\").alias('SendDate'), 'ActivityType', 'ContactId', 'CampaignId', 'CampaignName') #'EmailRecipientId', 'ExternalId', 'UserCompany', 'UserId', 'UserEmailSenderAddress','AssetId', 'AssetName', 'EmailAddress', 'Id', 'SubjectLine',  \n",
    "\n",
    "#Campaign\n",
    "campaignData = eCampaign_snap.select(col('id').alias('eloq_campaignId'), col('crmId').alias('cap_campaignId'), 'campaignCategory', 'campaignType', col('name').alias('eloq_campaignName'), from_unixtime(col('createdAt'),\"MM-dd-yyyy\").alias('createdAt'))\n",
    "\n",
    "#Opens\n",
    "openData = eOpen_snap.select(date_format(to_date(col('ActivityDate')), \"MM-dd-yyyy\").alias('OpenDate'), col('ContactId').alias('eo_ContactId'), col('Id').alias('OpenId'), col('CampaignId').alias('eo_CampaignId'))\n",
    "\n",
    "#clickthroughs\n",
    "clickData = eClick_snap.select(date_format(to_date(col('ActivityDate')), \"MM-dd-yyyy\").alias('ClickDate'), col('ContactId').alias('ec_ContactId'), col('Id').alias('ClickId'), col('CampaignId').alias('ec_CampaignId'))\n",
    "\n",
    "#Bouncebacks\n",
    "bounceData = eBounceback_snap.select(date_format(to_date(col('ActivityDate')), \"MM-dd-yyyy\").alias('BouncedDate'), col('ContactId').alias('eb_ContactId'), col('Id').alias('BounceId'), col('CampaignId').alias('eb_CampaignId'))\n",
    "\n",
    "\n",
    "\n",
    "\n",
    "###### ---------- AGGREGATION\n",
    "\n",
    "#Join Eloqua campaign and Contacts with Email Sends -- ContactIds, CampaignIds, Email Sends\n",
    "tempSend1 = campaignData.join(sendData, campaignData.eloq_campaignId == sendData.CampaignId, how = 'left').drop(sendData.CampaignId)\n",
    "tempSend2 = tempSend1.join(contactsData, tempSend1.ContactId == contactsData.contactID, how = 'left').drop(contactsData.contactID)\n",
    "\n",
    "#Agg Sends\n",
    "sendagg1 = tempSend2.groupBy('cap_campaignId').agg(countDistinct('eloq_campaignId').alias('EmailCampaigns'),\n",
    "                                               count('cap_ContactId').alias('EmailsSent'),\n",
    "                                               countDistinct('cap_ContactId').alias('#SentContacts'), \n",
    "                                               countDistinct('cap_AccountId').alias('#SentCompanies'))\n",
    "\n",
    "#Join Eloqua campaign and Contacts with Email Opens -- ContactIds, CampaignIds, Email Opens\n",
    "tempOpen1 = campaignData.join(openData, campaignData.eloq_campaignId == openData.eo_CampaignId, how = 'left').drop(openData.eo_CampaignId)\n",
    "tempOpen2 = tempOpen1.join(contactsData, tempOpen1.eo_ContactId == contactsData.contactID, how = 'left').drop(contactsData.contactID)\n",
    "\n",
    "#Agg Opens\n",
    "openagg1 = tempOpen2.groupBy('cap_campaignId').agg(#countDistinct('eloq_campaignId').alias('EmailCampaigns'),\n",
    "                                               count('cap_ContactId').alias('EmailsOpened'),\n",
    "                                               countDistinct('cap_ContactId').alias('#OpenedContacts'), \n",
    "                                               countDistinct('cap_AccountId').alias('#OpenedCompanies'))\n",
    "\n",
    "#Join Eloqua campaign and Contacts with Email Clicks -- ContactIds, CampaignIds, Email Clicks\n",
    "tempClick1 = campaignData.join(clickData, campaignData.eloq_campaignId == clickData.ec_CampaignId, how = 'left').drop(clickData.ec_CampaignId)\n",
    "tempClick2 = tempClick1.join(contactsData, tempClick1.ec_ContactId == contactsData.contactID, how = 'left').drop(contactsData.contactID)\n",
    "\n",
    "#Agg Clicks\n",
    "clickagg1 = tempClick2.groupBy('cap_campaignId').agg(#countDistinct('eloq_campaignId').alias('EmailCampaigns'),\n",
    "                                               count('cap_ContactId').alias('EmailsClicked'),\n",
    "                                               countDistinct('cap_ContactId').alias('#ClickedContacts'), \n",
    "                                               countDistinct('cap_AccountId').alias('#ClickedCompanies'))\n",
    "\n",
    "#BounceBacks\n",
    "# #Join Eloqua campaign and Contacts with Email BOUNCES -- ContactIds, CampaignIds, Email Bounces\n",
    "tempBounce1 = campaignData.join(bounceData, campaignData.eloq_campaignId == bounceData.eb_CampaignId, how = 'left').drop(bounceData.eb_CampaignId)\n",
    "tempBounce2 = tempBounce1.join(contactsData, tempBounce1.eb_ContactId == contactsData.contactID, how = 'left').drop(contactsData.contactID)\n",
    "\n",
    "#Agg Sends\n",
    "bounceagg1 = tempBounce2.groupBy('cap_campaignId').agg(#countDistinct('eloq_campaignId').alias('EmailCampaigns'),\n",
    "                                                       count('cap_ContactId').alias('EmailsBounced'),\n",
    "                                                       countDistinct('cap_ContactId').alias('#BouncedContacts'), \n",
    "                                                       countDistinct('cap_AccountId').alias('#BouncedCompanies'))\n",
    "\n",
    "\n",
    "#Join all aggregates\n",
    "tempagg1 = sendagg1.join(openagg1, sendagg1.cap_campaignId == openagg1.cap_campaignId, how = 'left').drop(openagg1.cap_campaignId)\n",
    "tempagg2 = tempagg1.join(clickagg1, tempagg1.cap_campaignId == clickagg1.cap_campaignId, how = 'left').drop(clickagg1.cap_campaignId)\n",
    "tempagg3 = tempagg2.join(bounceagg1, tempagg2.cap_campaignId == bounceagg1.cap_campaignId, how = 'left').drop(bounceagg1.cap_campaignId)\n",
    "\n",
    "#Filter only valid CampaignIds and ListingIDs\n",
    "tempagg4 = tempagg3.filter(col('cap_campaignId').startswith('70') | col('cap_campaignId').startswith('a0'))\n",
    "\n",
    "#Final Summary data\n",
    "emailData = tempagg4.select(col('cap_campaignId').alias('CampaignId_capforce'), 'EmailCampaigns', 'EmailsSent', '#SentContacts', '#SentCompanies' ,'EmailsOpened', '#OpenedContacts', '#OpenedCompanies', 'EmailsClicked', '#ClickedContacts', '#ClickedCompanies', 'EmailsBounced', '#BouncedContacts','#BouncedCompanies')"
   ]
  },
  {
   "cell_type": "code",
   "execution_count": null,
   "metadata": {
    "application/vnd.databricks.v1+cell": {
     "cellMetadata": {
      "byteLimit": 2048000,
      "rowLimit": 10000
     },
     "inputWidgets": {},
     "nuid": "53b32de1-a9a5-434a-aaae-7e53fc492e1c",
     "showTitle": true,
     "title": "Final Join - Listings data"
    }
   },
   "outputs": [],
   "source": [
    "#capData (ListingId)\n",
    "#boxDownloadData (ListingID)\n",
    "#adobeData (ad_ListingID)\n",
    "#emailData(CampaignId_capforce)\n",
    "\n",
    "\n",
    "listingstemp1 = capData.join(emailData, capData.CampaignId == emailData.CampaignId_capforce, how = 'left').drop(emailData.CampaignId_capforce)\n",
    "listingstemp2 = listingstemp1.join(adobeData, listingstemp1.ListingId == adobeData.ad_ListingID, how = 'left').drop(adobeData.ad_ListingID)\n",
    "listingstemp3 = listingstemp2.join(boxDownloadData, listingstemp2.ListingId == boxDownloadData.ListingID, how = 'left').drop(boxDownloadData.ListingID)\n",
    "listingstemp4 = listingstemp3.join(campaignCapforce, listingstemp3.CampaignId == campaignCapforce.camp_campaignId, how = 'left').drop(campaignCapforce.camp_campaignId)\n",
    "listingstemp5 = listingstemp4.join(leadBrokerInfo, listingstemp4.OpportunityID == leadBrokerInfo.oppId, how = 'left').drop(leadBrokerInfo.oppId)\n",
    "\n",
    "finalActiveListings = listingstemp5.select('ListingId', 'ListingName', 'CampaignId', 'OpportunityID', 'CompanyID', 'CompanyName', 'DisplayStatus', col('ListingCreatedDate').cast('Date').alias('ListingCreatedDate'), 'Publish_Date', 'Published_Days', 'AskingPrice', 'DealValue', 'ISOCode', 'CurConvRate','Confidential', 'Property_Type', 'Latitude', 'Longitude', 'State', 'City', 'Zip_Code', 'Status', 'Private_Listing_Name', 'camp_Content_Status', 'camp_IsActive', 'camp_TeamId', 'camp_Status', '#ofExecutedCA', '#ofBidsbyContactsCA', '#ofContactCompaniesCA', '#ofBiddingCompanies', '#PropertyTours', 'MemberExclusion', 'EmailCampaigns', 'EmailsSent', '#SentContacts', '#SentCompanies', 'EmailsBounced', '#BouncedContacts', '#BouncedCompanies', 'EmailsOpened',  '#OpenedContacts', '#OpenedCompanies', 'EmailsClicked', '#ClickedContacts', '#ClickedCompanies', 'TotalVisits', 'PageViews', 'UniqueVisitors', 'TotalBoxDownloads', 'camp_No_of_CampaignMembers', 'camp_NumberOfContacts', 'Primary_Broker_User_Id', 'Primary_Broker_Contact_Id', 'Primary_Broker_Name', 'Primary_Broker_Email', 'Primary_Broker_Phone', 'Secondary_Broker_User_Id', 'Secondary_Broker_Contact_Id', 'Secondary_Broker_Name', 'Secondary_Broker_Email', 'Secondary_Broker_Phone')"
   ]
  },
  {
   "cell_type": "code",
   "execution_count": null,
   "metadata": {
    "application/vnd.databricks.v1+cell": {
     "cellMetadata": {
      "byteLimit": 2048000,
      "rowLimit": 10000
     },
     "inputWidgets": {},
     "nuid": "bcca3713-f0d3-4c77-81f6-ea30335c78f0",
     "showTitle": true,
     "title": "Write Data"
    }
   },
   "outputs": [],
   "source": [
    "#Adobe Data\n",
    "adobetemp11.write.mode('overwrite').option('overwriteSchema', 'true').saveAsTable('REMOVED')\n",
    "\n",
    "#Listings Data\n",
    "finalActiveListings.write.mode('overwrite').option('overwriteSchema', 'true').saveAsTable('REMOVED')"
   ]
  }
 ],
 "metadata": {
  "application/vnd.databricks.v1+notebook": {
   "dashboards": [],
   "language": "python",
   "notebookMetadata": {
    "pythonIndentUnit": 2
   },
   "notebookName": "DealX - Listings Dataset v7 SQL Ingestion ajs",
   "widgets": {}
  },
  "language_info": {
   "name": "python"
  }
 },
 "nbformat": 4,
 "nbformat_minor": 0
}
