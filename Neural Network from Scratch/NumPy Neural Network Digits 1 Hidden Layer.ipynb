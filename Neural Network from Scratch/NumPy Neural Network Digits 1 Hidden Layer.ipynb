{
 "cells": [
  {
   "cell_type": "code",
   "execution_count": 0,
   "metadata": {
    "application/vnd.databricks.v1+cell": {
     "cellMetadata": {
      "byteLimit": 2048000,
      "rowLimit": 10000
     },
     "inputWidgets": {},
     "nuid": "ecdf7feb-11b9-4baa-b6e2-342cb80a69d1",
     "showTitle": true,
     "tableResultSettingsMap": {},
     "title": "Imports"
    }
   },
   "outputs": [],
   "source": [
    "import numpy as np\n",
    "import pandas as pd # Just to read in the csv file\n",
    "from matplotlib import pyplot as plt # Visualize the Neural Network's output"
   ]
  },
  {
   "cell_type": "code",
   "execution_count": 0,
   "metadata": {
    "application/vnd.databricks.v1+cell": {
     "cellMetadata": {
      "byteLimit": 2048000,
      "rowLimit": 10000
     },
     "inputWidgets": {},
     "nuid": "d49e24c6-56c5-4995-a513-5377b249adc0",
     "showTitle": true,
     "tableResultSettingsMap": {},
     "title": "Ingest and Preprocess"
    }
   },
   "outputs": [],
   "source": [
    "# Read in image CSV files\n",
    "train_df = pd.read_csv('.../Images/digits_mnist_train.csv')\n",
    "test_df = pd.read_csv('.../Images/digits_mnist_test.csv')\n",
    "\n",
    "# Convert it to a numpy array\n",
    "train_np = np.array(train_df)\n",
    "test_np = np.array(test_df)\n",
    "\n",
    "# Transpose rows to columns\n",
    "train_trans = train_np.T\n",
    "test_trans = test_np.T\n",
    "\n",
    "# Seperate X (features) and Y (targets)\n",
    "y_train = train_trans[0]\n",
    "X_train = train_trans[1:]\n",
    "\n",
    "y_test = test_trans[0]\n",
    "X_test = test_trans[1:]\n",
    "\n",
    "# Normalize the pixel range of the image arrays from 0-255 (256 pixels) to 0-1\n",
    "X_train = X_train / 255.0\n",
    "X_test = X_test / 255.0"
   ]
  },
  {
   "cell_type": "code",
   "execution_count": 0,
   "metadata": {
    "application/vnd.databricks.v1+cell": {
     "cellMetadata": {
      "byteLimit": 2048000,
      "rowLimit": 10000
     },
     "inputWidgets": {},
     "nuid": "81eadd3b-c869-4623-8dae-6c4781f15993",
     "showTitle": true,
     "tableResultSettingsMap": {},
     "title": "Forward Prop"
    }
   },
   "outputs": [],
   "source": [
    "\n",
    "# Initalize random params for the neural networks first forward pass. \n",
    "def init_params():\n",
    "  W1 = np.random.rand(10, 784) - 0.5\n",
    "  b1 = np.random.rand(10, 1) - 0.5\n",
    "  W2 = np.random.rand(10, 10) - 0.5\n",
    "  b2 = np.random.rand(10, 1) - 0.5\n",
    "  return W1, b1, W2, b2\n",
    "\n",
    "# Define the Activiation Function. In this case we'll use ReLU (if Z > 0 return Z, else 0).\n",
    "def ReLU(Z):\n",
    "  # Numpy maximum function iterates through entire array.\n",
    "  return np.maximum(Z, 0)\n",
    "\n",
    "# Returns output layer results into probability distribution for each possible outcome that sum to 1.\n",
    "def softmax(Z):\n",
    "  return np.exp(Z) / sum(np.exp(Z))\n",
    "\n",
    "# Create basic forward prop with input layer, 1 hidden layer, and output layer.\n",
    "def forward_prop(W1, b1, W2, b2, X):\n",
    "  Z1 = W1.dot(X) + b1\n",
    "  A1 = ReLU(Z1)\n",
    "  Z2 = W2.dot(A1) + b2\n",
    "  A2 = softmax(Z2)\n",
    "  return Z1, A1, Z2, A2\n"
   ]
  },
  {
   "cell_type": "code",
   "execution_count": 0,
   "metadata": {
    "application/vnd.databricks.v1+cell": {
     "cellMetadata": {
      "byteLimit": 2048000,
      "rowLimit": 10000
     },
     "inputWidgets": {},
     "nuid": "e149f7e0-b74c-4882-ae93-3860683443c0",
     "showTitle": true,
     "tableResultSettingsMap": {},
     "title": "Back Prop"
    }
   },
   "outputs": [],
   "source": [
    "\n",
    "# One hot encode the y targets.\n",
    "def one_hot(y):\n",
    "    # inner parentheses create a tuple with the dimensions of y, np.zeros creates an array of zeros of the argument, but only accepts a single argument, in this case a tuple.\n",
    "  one_hot_y = np.zeros((y.size, y.max() + 1))\n",
    "  one_hot_y[np.arange(y.size), y] = 1\n",
    "  one_hot_y = one_hot_y.T\n",
    "  return one_hot_y\n",
    "\n",
    "def deriv_ReLU(Z):\n",
    "    # ReLU is simple linear regression beyond 0, so derivative is equal to Z if greater than 0.\n",
    "  return Z > 0\n",
    "\n",
    "# Find the difference between the softmax probability and the correct answer. Apply that probability difference to each forward prop stage in reverse.\n",
    "def back_prop(Z1, A1, Z2, A2, W2, X, y):\n",
    "  m = y.size\n",
    "  one_hot_y = one_hot(y)\n",
    "\n",
    "  dZ2 = A2 - one_hot_y\n",
    "  dW2 = 1 / m * dZ2.dot(A1.T)\n",
    "  db2 = 1 / m * np.sum(dZ2)\n",
    "  dZ1 = W2.T.dot(dZ2) * deriv_ReLU(Z1)\n",
    "\n",
    "  dW1 = 1 / m * dZ1.dot(X.T)\n",
    "  db1 = 1 / m * np.sum(dZ1)\n",
    "\n",
    "  return dW1, db1, dW2, db2\n",
    "\n",
    "# Update your forward prop parameters with the differences found from back propagation\n",
    "  # Use Alpha as your learning rate to determine how aggressive your neural network will update between epochs. \n",
    "def update_params(W1, b1, W2, b2, dW1, db1, dW2, db2, alpha):\n",
    "  W1 = W1 - alpha * dW1\n",
    "  b1 = b1 - alpha * db1\n",
    "  W2 = W2 - alpha * dW2\n",
    "  b2 = b2 - alpha * db2\n",
    "  return W1, b1, W2, b2\n"
   ]
  },
  {
   "cell_type": "code",
   "execution_count": 0,
   "metadata": {
    "application/vnd.databricks.v1+cell": {
     "cellMetadata": {
      "byteLimit": 2048000,
      "rowLimit": 10000
     },
     "inputWidgets": {},
     "nuid": "2b8da4d6-4c2e-4389-90ab-34b2222f579b",
     "showTitle": true,
     "tableResultSettingsMap": {},
     "title": "Gradient Descent"
    }
   },
   "outputs": [],
   "source": [
    "\n",
    "def get_predictions(A2):\n",
    "    # Take A2 output of neural network and return the index of the highest softmax value. Aka, highest probability == 1, rest are 0, to match the format of the one-hot encoded targets so they can be effectively compared.\n",
    "  return np.argmax(A2, 0)\n",
    "\n",
    "def get_accuracy(predictions, y):\n",
    "    # print prediction and actual target\n",
    "  print(predictions, y)\n",
    "    # print number of accurate predictions divided by array size\n",
    "  return np.sum(predictions == y) / y.size\n",
    "\n",
    "# Put it all together to create a gradient descent\n",
    "def gradient_descent(X, y, iterations, alpha):\n",
    "  W1, b1, W2, b2 = init_params()\n",
    "  for i in range(iterations):\n",
    "    Z1, A1, Z2, A2 = forward_prop(W1, b1, W2, b2, X)\n",
    "    dW1, db1, dW2, db2 = back_prop(Z1, A1, Z2, A2, W2, X, y)\n",
    "    W1, b1, W2, b2 = update_params(W1, b1, W2, b2, dW1, db1, dW2, db2, alpha)\n",
    "      # Every n (in this case 10) iterations, perform accuracy check:\n",
    "    if (i % 10 == 0):\n",
    "      print(\"Iteration: \", i)\n",
    "      predictions = get_predictions(A2)\n",
    "      print(\"Accuracy: \", get_accuracy(predictions, y))\n",
    "  return W1, b1, W2, b2\n"
   ]
  },
  {
   "cell_type": "code",
   "execution_count": 0,
   "metadata": {
    "application/vnd.databricks.v1+cell": {
     "cellMetadata": {
      "byteLimit": 2048000,
      "rowLimit": 10000
     },
     "inputWidgets": {},
     "nuid": "d9279b9b-1d02-4d66-af98-5f4a392297c6",
     "showTitle": true,
     "tableResultSettingsMap": {},
     "title": "Train Network on Training Data"
    }
   },
   "outputs": [
    {
     "output_type": "stream",
     "name": "stdout",
     "output_type": "stream",
     "text": [
      "Iteration:  0\n[4 4 5 ... 4 4 4] [5 0 4 ... 5 6 8]\nAccuracy:  0.08756666666666667\nIteration:  10\n[4 0 9 ... 4 8 0] [5 0 4 ... 5 6 8]\nAccuracy:  0.2014\nIteration:  20\n[0 0 9 ... 0 8 0] [5 0 4 ... 5 6 8]\nAccuracy:  0.2868\nIteration:  30\n[0 0 1 ... 7 8 8] [5 0 4 ... 5 6 8]\nAccuracy:  0.34946666666666665\nIteration:  40\n[0 0 1 ... 7 8 8] [5 0 4 ... 5 6 8]\nAccuracy:  0.3872833333333333\nIteration:  50\n[0 0 1 ... 7 8 8] [5 0 4 ... 5 6 8]\nAccuracy:  0.42085\nIteration:  60\n[0 0 1 ... 7 8 8] [5 0 4 ... 5 6 8]\nAccuracy:  0.45381666666666665\nIteration:  70\n[0 0 1 ... 5 5 8] [5 0 4 ... 5 6 8]\nAccuracy:  0.487\nIteration:  80\n[0 0 2 ... 5 5 8] [5 0 4 ... 5 6 8]\nAccuracy:  0.51745\nIteration:  90\n[0 0 2 ... 5 5 8] [5 0 4 ... 5 6 8]\nAccuracy:  0.5444166666666667\nIteration:  100\n[3 0 2 ... 5 5 8] [5 0 4 ... 5 6 8]\nAccuracy:  0.5730833333333333\nIteration:  110\n[3 0 2 ... 5 5 8] [5 0 4 ... 5 6 8]\nAccuracy:  0.5982\nIteration:  120\n[3 0 2 ... 5 5 8] [5 0 4 ... 5 6 8]\nAccuracy:  0.6195333333333334\nIteration:  130\n[3 0 2 ... 5 5 8] [5 0 4 ... 5 6 8]\nAccuracy:  0.64005\nIteration:  140\n[3 0 2 ... 5 5 8] [5 0 4 ... 5 6 8]\nAccuracy:  0.6581\nIteration:  150\n[3 0 2 ... 5 5 8] [5 0 4 ... 5 6 8]\nAccuracy:  0.6746333333333333\nIteration:  160\n[3 0 2 ... 5 6 8] [5 0 4 ... 5 6 8]\nAccuracy:  0.6885\nIteration:  170\n[3 0 2 ... 5 6 8] [5 0 4 ... 5 6 8]\nAccuracy:  0.7014333333333334\nIteration:  180\n[3 0 2 ... 5 6 8] [5 0 4 ... 5 6 8]\nAccuracy:  0.7134166666666667\nIteration:  190\n[3 0 2 ... 5 6 8] [5 0 4 ... 5 6 8]\nAccuracy:  0.7249333333333333\nIteration:  200\n[3 0 2 ... 5 6 8] [5 0 4 ... 5 6 8]\nAccuracy:  0.7342\nIteration:  210\n[3 0 2 ... 5 6 8] [5 0 4 ... 5 6 8]\nAccuracy:  0.7420166666666667\nIteration:  220\n[3 0 2 ... 5 6 8] [5 0 4 ... 5 6 8]\nAccuracy:  0.7481\nIteration:  230\n[3 0 2 ... 5 6 8] [5 0 4 ... 5 6 8]\nAccuracy:  0.7546166666666667\nIteration:  240\n[3 0 2 ... 5 6 8] [5 0 4 ... 5 6 8]\nAccuracy:  0.7607333333333334\nIteration:  250\n[3 0 2 ... 5 6 8] [5 0 4 ... 5 6 8]\nAccuracy:  0.7658666666666667\nIteration:  260\n[3 0 2 ... 5 6 8] [5 0 4 ... 5 6 8]\nAccuracy:  0.7711333333333333\nIteration:  270\n[3 0 2 ... 5 6 8] [5 0 4 ... 5 6 8]\nAccuracy:  0.7755833333333333\nIteration:  280\n[3 0 2 ... 5 6 8] [5 0 4 ... 5 6 8]\nAccuracy:  0.7794166666666666\nIteration:  290\n[3 0 2 ... 5 6 8] [5 0 4 ... 5 6 8]\nAccuracy:  0.7834\nIteration:  300\n[3 0 2 ... 5 6 8] [5 0 4 ... 5 6 8]\nAccuracy:  0.7875\nIteration:  310\n[3 0 2 ... 5 6 8] [5 0 4 ... 5 6 8]\nAccuracy:  0.79115\nIteration:  320\n[3 0 2 ... 5 6 8] [5 0 4 ... 5 6 8]\nAccuracy:  0.7948166666666666\nIteration:  330\n[3 0 2 ... 5 6 8] [5 0 4 ... 5 6 8]\nAccuracy:  0.7978\nIteration:  340\n[3 0 2 ... 5 6 5] [5 0 4 ... 5 6 8]\nAccuracy:  0.8007666666666666\nIteration:  350\n[3 0 2 ... 5 6 5] [5 0 4 ... 5 6 8]\nAccuracy:  0.8038\nIteration:  360\n[3 0 2 ... 5 6 5] [5 0 4 ... 5 6 8]\nAccuracy:  0.8061166666666667\nIteration:  370\n[3 0 2 ... 5 6 5] [5 0 4 ... 5 6 8]\nAccuracy:  0.8088333333333333\nIteration:  380\n[3 0 2 ... 5 6 5] [5 0 4 ... 5 6 8]\nAccuracy:  0.8113\nIteration:  390\n[3 0 2 ... 5 6 5] [5 0 4 ... 5 6 8]\nAccuracy:  0.8139166666666666\nIteration:  400\n[3 0 2 ... 5 6 5] [5 0 4 ... 5 6 8]\nAccuracy:  0.8158666666666666\nIteration:  410\n[3 0 2 ... 5 6 5] [5 0 4 ... 5 6 8]\nAccuracy:  0.8176833333333333\nIteration:  420\n[3 0 2 ... 5 6 5] [5 0 4 ... 5 6 8]\nAccuracy:  0.8200833333333334\nIteration:  430\n[3 0 2 ... 5 6 5] [5 0 4 ... 5 6 8]\nAccuracy:  0.8220166666666666\nIteration:  440\n[3 0 2 ... 5 6 5] [5 0 4 ... 5 6 8]\nAccuracy:  0.8239\nIteration:  450\n[3 0 2 ... 5 6 5] [5 0 4 ... 5 6 8]\nAccuracy:  0.8257333333333333\nIteration:  460\n[3 0 2 ... 5 6 5] [5 0 4 ... 5 6 8]\nAccuracy:  0.8274\nIteration:  470\n[3 0 2 ... 5 6 5] [5 0 4 ... 5 6 8]\nAccuracy:  0.8295\nIteration:  480\n[3 0 2 ... 5 6 5] [5 0 4 ... 5 6 8]\nAccuracy:  0.8312166666666667\nIteration:  490\n[3 0 2 ... 5 6 5] [5 0 4 ... 5 6 8]\nAccuracy:  0.83235\n"
     ]
    }
   ],
   "source": [
    "W1, b2, W2, b2 = gradient_descent(X_train, y_train, 500, 0.1)"
   ]
  },
  {
   "cell_type": "code",
   "execution_count": 0,
   "metadata": {
    "application/vnd.databricks.v1+cell": {
     "cellMetadata": {
      "byteLimit": 2048000,
      "rowLimit": 10000
     },
     "inputWidgets": {},
     "nuid": "8723f4d0-c310-489a-a0f6-5124e2e69ce6",
     "showTitle": true,
     "tableResultSettingsMap": {},
     "title": "Test Predictions Functions and Visualizations"
    }
   },
   "outputs": [],
   "source": [
    "def make_predictions(W1, b1, W2, b2, X):\n",
    "    # Only need output layer (A2)\n",
    "  _, _, _, A2 = forward_prop(W1, b2, W2, b2, X)\n",
    "  predictions = get_predictions(A2)\n",
    "  return predictions\n",
    "\n",
    "# Compare predictions to their actual target labels. Output digit visualization to spot check inaccurate digits. \n",
    "def test_predictions(W1, b1, W2, b2, X, y, test_index):\n",
    "  current_image = X[:, test_index, None]\n",
    "  prediction = make_predictions(W1, b1, W2, b2, current_image)\n",
    "  label = y[test_index]\n",
    "  print(\"Prediction: \", prediction)\n",
    "  print(\"Label: \", label)\n",
    "\n",
    "    #reshape back into correct matrix\n",
    "  current_image = current_image.reshape((28, 28)) * 255\n",
    "  plt.gray()\n",
    "  plt.imshow(current_image, interpolation=\"nearest\")\n",
    "  plt.show()\n"
   ]
  },
  {
   "cell_type": "code",
   "execution_count": 0,
   "metadata": {
    "application/vnd.databricks.v1+cell": {
     "cellMetadata": {
      "byteLimit": 2048000,
      "rowLimit": 10000
     },
     "inputWidgets": {},
     "nuid": "82cef5f1-e04a-4218-94dc-2a411ed24ace",
     "showTitle": true,
     "tableResultSettingsMap": {},
     "title": "Visualize Spot Check Training Data"
    }
   },
   "outputs": [
    {
     "output_type": "stream",
     "name": "stdout",
     "output_type": "stream",
     "text": [
      "Prediction:  [8]\nLabel:  5\n"
     ]
    },
    {
     "output_type": "display_data",
     "data": {
      "image/png": "[encoded data removed]"
     },
     "metadata": {
      "application/vnd.databricks.v1+output": {
       "addedWidgets": {},
       "arguments": {},
       "data": "data:image/png;base64,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\n",
       "datasetInfos": [],
       "metadata": {},
       "removedWidgets": [],
       "type": "image"
      }
     },
     "output_type": "display_data"
    }
   ],
   "source": [
    "test_predictions(W1, b1, W2, b2, X_train, y_train, 100)"
   ]
  },
  {
   "cell_type": "code",
   "execution_count": 0,
   "metadata": {
    "application/vnd.databricks.v1+cell": {
     "cellMetadata": {
      "byteLimit": 2048000,
      "rowLimit": 10000
     },
     "inputWidgets": {},
     "nuid": "e6da2f41-9ae7-47fa-8523-728d93ad9b37",
     "showTitle": true,
     "tableResultSettingsMap": {},
     "title": "Accuracy Check on Test Data"
    }
   },
   "outputs": [
    {
     "output_type": "stream",
     "name": "stdout",
     "output_type": "stream",
     "text": [
      "[7 2 1 ... 4 8 6] [7 2 1 ... 4 5 6]\nOut[89]: 0.8274"
     ]
    }
   ],
   "source": [
    "test_preds = make_predictions(W1, b1, W2, b2, X_test)\n",
    "get_accuracy(test_preds, y_test)"
   ]
  },
  {
   "cell_type": "markdown",
   "metadata": {
    "application/vnd.databricks.v1+cell": {
     "cellMetadata": {},
     "inputWidgets": {},
     "nuid": "e01dda6f-1c58-4481-9a67-4934620d1efb",
     "showTitle": false,
     "tableResultSettingsMap": {},
     "title": ""
    }
   },
   "source": [
    "### Training data reach 83.235% accuracy after 500 epochs. \n",
    "### Testing data achieved 82.74% accuracy with the same weights and biases."
   ]
  }
 ],
 "metadata": {
  "application/vnd.databricks.v1+notebook": {
   "computePreferences": null,
   "dashboards": [],
   "environmentMetadata": {
    "base_environment": "",
    "environment_version": "2"
   },
   "language": "python",
   "notebookMetadata": {
    "pythonIndentUnit": 2
   },
   "notebookName": "NumPy Neural Network Digits 1 Hidden Layer",
   "widgets": {}
  },
  "language_info": {
   "name": "python"
  }
 },
 "nbformat": 4,
 "nbformat_minor": 0
}