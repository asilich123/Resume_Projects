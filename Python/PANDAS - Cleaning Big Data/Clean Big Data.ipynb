{
 "cells": [
  {
   "cell_type": "code",
   "execution_count": 63,
   "metadata": {},
   "outputs": [],
   "source": [
    "import pandas as pd"
   ]
  },
  {
   "cell_type": "code",
   "execution_count": 64,
   "metadata": {},
   "outputs": [],
   "source": [
    "#Import data.\n",
    "\n",
    "df = pd.read_excel('StartupFunding_Dirty.xlsx')"
   ]
  },
  {
   "cell_type": "code",
   "execution_count": 65,
   "metadata": {},
   "outputs": [],
   "source": [
    "#Remove irrelevant columns.\n",
    "\n",
    "df.head()\n",
    "df = df.drop(['permalink','founded_month','founded_quarter','first_funding_at','last_funding_at'], axis=1)"
   ]
  },
  {
   "cell_type": "code",
   "execution_count": 66,
   "metadata": {},
   "outputs": [],
   "source": [
    "#Drop null rows from all columns except state_code.\n",
    "\n",
    "for col in df:\n",
    "      if col != 'state_code':\n",
    "         df.dropna(subset=[col], inplace=True)\n"
   ]
  },
  {
   "cell_type": "code",
   "execution_count": 67,
   "metadata": {},
   "outputs": [],
   "source": [
    "#Drop null values from 'funding_total_usd' column that were misread as 0s.\n",
    "\n",
    "df = df[df.funding_total_usd != 0]"
   ]
  },
  {
   "cell_type": "code",
   "execution_count": null,
   "metadata": {},
   "outputs": [],
   "source": [
    "#Format 'funding_total_usd' into currency."
   ]
  },
  {
   "cell_type": "code",
   "execution_count": 68,
   "metadata": {},
   "outputs": [],
   "source": [
    "#Correct inconsistent formatting within 'founded_at' dates. \n",
    "#Remove irrelevant timestamps.\n",
    "\n",
    "df['founded_at'] = pd.to_datetime(df['founded_at'])\n",
    "df['founded_at'] = df['founded_at'].dt.date"
   ]
  },
  {
   "cell_type": "code",
   "execution_count": 69,
   "metadata": {},
   "outputs": [],
   "source": [
    "#Drop outlier values that are likely inaccurate from 'funding_total_usd'.\n",
    "\n",
    "df.drop(df[df.funding_total_usd < 10000].index, inplace=True)\n"
   ]
  },
  {
   "cell_type": "code",
   "execution_count": 70,
   "metadata": {},
   "outputs": [],
   "source": [
    "#Save Cleaned Data\n",
    "\n",
    "df.to_excel('StartupFunding_Cleaned.xlsx', index=False)"
   ]
  }
 ],
 "metadata": {
  "kernelspec": {
   "display_name": "Python 3.8.5 ('base')",
   "language": "python",
   "name": "python3"
  },
  "language_info": {
   "codemirror_mode": {
    "name": "ipython",
    "version": 3
   },
   "file_extension": ".py",
   "mimetype": "text/x-python",
   "name": "python",
   "nbconvert_exporter": "python",
   "pygments_lexer": "ipython3",
   "version": "3.8.5"
  },
  "orig_nbformat": 4,
  "vscode": {
   "interpreter": {
    "hash": "30a28b1dd73e716e6fd645fb12698583117439fa3834957d175fc62d4112cd9e"
   }
  }
 },
 "nbformat": 4,
 "nbformat_minor": 2
}
